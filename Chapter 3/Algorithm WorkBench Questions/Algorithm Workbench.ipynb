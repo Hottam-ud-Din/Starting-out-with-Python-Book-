{
 "cells": [
  {
   "cell_type": "markdown",
   "id": "5a4593a3",
   "metadata": {},
   "source": [
    "# Algorithm WorkBench questions of Chapter 3 "
   ]
  },
  {
   "cell_type": "markdown",
   "id": "2f9d7472",
   "metadata": {},
   "source": [
    "### Question: 1\n",
    "Write an if statement that assigns 20 to the variable y, and assigns 40 to the variable z \n",
    "if the variable x is greater than 100."
   ]
  },
  {
   "cell_type": "code",
   "execution_count": 1,
   "id": "ab1e80b9",
   "metadata": {},
   "outputs": [
    {
     "name": "stdout",
     "output_type": "stream",
     "text": [
      "Enter a Number:123\n",
      "123,20,40\n"
     ]
    }
   ],
   "source": [
    "x = int(input(\"Enter a Number:\"))\n",
    "if x > 100:\n",
    "    y = 20\n",
    "    z = 40\n",
    "    print(x,y,z, sep = \",\")"
   ]
  },
  {
   "cell_type": "markdown",
   "id": "d24c2fb8",
   "metadata": {},
   "source": [
    "### Question:2\n",
    "Write an if statement that assigns 10 to the variable b, and 50 to the variable c if the \n",
    "variable a is equal to 100"
   ]
  },
  {
   "cell_type": "code",
   "execution_count": 2,
   "id": "25dc33a4",
   "metadata": {},
   "outputs": [
    {
     "name": "stdout",
     "output_type": "stream",
     "text": [
      "Enter a Number:100\n",
      "100,10,50\n"
     ]
    }
   ],
   "source": [
    "a = int(input(\"Enter a Number:\"))\n",
    "if a == 100:\n",
    "    b = 10\n",
    "    c = 50\n",
    "    print(a,b,c, sep=\",\")"
   ]
  },
  {
   "cell_type": "markdown",
   "id": "fac125c0",
   "metadata": {},
   "source": [
    "## Question:3\n",
    "Write an if-else statement that assigns 0 to the variable b if the variable a is less \n",
    "than 10. Otherwise, it should assign 99 to the variable b.\n"
   ]
  },
  {
   "cell_type": "code",
   "execution_count": 3,
   "id": "69531ffa",
   "metadata": {},
   "outputs": [
    {
     "name": "stdout",
     "output_type": "stream",
     "text": [
      "Enter a NUmber:32\n",
      "99\n"
     ]
    }
   ],
   "source": [
    "a = int(input(\"Enter a NUmber:\"))\n",
    "if a < 10:\n",
    "    b = 0\n",
    "else:\n",
    "    b = 99\n",
    "\n",
    "print(b)"
   ]
  },
  {
   "cell_type": "markdown",
   "id": "0cba7fa6",
   "metadata": {},
   "source": [
    "### Question:4\n",
    "The following code contains several nested if-else statements. Unfortunately, it \n",
    "was written without proper alignment and indentation. Rewrite the code and use the \n",
    "proper conventions of alignment and indentation.\n",
    "\n",
    "if score >= A_score:\n",
    "\n",
    "print('Your grade is A.')\n",
    "\n",
    "else:\n",
    "\n",
    "if score >= B_score:\n",
    "\n",
    "print('Your grade is B.')\n",
    "\n",
    "else:\n",
    "\n",
    "if score >= C_score:\n",
    "\n",
    "print('Your grade is C.')\n",
    "\n",
    "else:\n",
    "\n",
    "if score >= D_score:\n",
    "\n",
    "print('Your grade is D.')\n",
    "\n",
    "else:\n",
    "\n",
    "print('Your grade is F.')"
   ]
  },
  {
   "cell_type": "code",
   "execution_count": 4,
   "id": "f72ca12f",
   "metadata": {},
   "outputs": [
    {
     "name": "stdout",
     "output_type": "stream",
     "text": [
      "Enter your Score:87\n",
      "Your grade is B.\n"
     ]
    }
   ],
   "source": [
    "score = int(input(\"Enter your Score:\"))\n",
    "A_score = 90\n",
    "B_score = 80\n",
    "C_score = 70\n",
    "D_score = 60\n",
    "\n",
    "if score >= A_score:\n",
    "    print('Your grade is A.')\n",
    "else:\n",
    "    if score >= B_score:\n",
    "        print('Your grade is B.')\n",
    "    else:\n",
    "        if score >= C_score:\n",
    "            print('Your grade is C.')\n",
    "        else:\n",
    "            if score >= D_score:\n",
    "                print('Your grade is D.')\n",
    "            else:\n",
    "                print('Your grade is F.')\n"
   ]
  },
  {
   "cell_type": "markdown",
   "id": "74426939",
   "metadata": {},
   "source": [
    "### Question:5\n",
    "Write nested decision structures that perform the following: If amount1 is greater than \n",
    "10 and amount2 is less than 100, display the greater of amount1 and amount2."
   ]
  },
  {
   "cell_type": "code",
   "execution_count": 5,
   "id": "506e7e3c",
   "metadata": {},
   "outputs": [
    {
     "name": "stdout",
     "output_type": "stream",
     "text": [
      "Enter amount_1: 43\n",
      "Enter amount_2: 45\n",
      "amount_2 is greater\n"
     ]
    }
   ],
   "source": [
    "amount_1 = int(input('Enter amount_1: '))\n",
    "amount_2 = int(input('Enter amount_2: '))\n",
    "\n",
    "if amount_1 > 10:\n",
    "    if amount_2 < 100:\n",
    "        if amount_1 > amount_2:\n",
    "            print('amount_1 is greater')\n",
    "        else:\n",
    "            print('amount_2 is greater')"
   ]
  },
  {
   "cell_type": "markdown",
   "id": "a76bbfa9",
   "metadata": {},
   "source": [
    "### Question:6\n",
    "Write an if-else statement that assigns True to the again variable if the score variable is within the range of 40 to 49. If the score variable’s value is outside this range, \n",
    "assign False to the again variable."
   ]
  },
  {
   "cell_type": "code",
   "execution_count": 6,
   "id": "595245b2",
   "metadata": {},
   "outputs": [
    {
     "name": "stdout",
     "output_type": "stream",
     "text": [
      "Enter the score: 45\n",
      "True\n"
     ]
    }
   ],
   "source": [
    "score = int(input('Enter the score: '))\n",
    "\n",
    "if score >= 40 and score <= 49:\n",
    "    again = True\n",
    "else:\n",
    "    again = False\n",
    "\n",
    "print(again)"
   ]
  },
  {
   "cell_type": "markdown",
   "id": "42f634b1",
   "metadata": {},
   "source": [
    "### Qustion:7\n",
    "Write an if-else statement that determines whether the points variable is outside \n",
    "the range of 9 to 51. If the variable’s value is outside this range it should display \n",
    "“Invalid points.” Otherwise, it should display “Valid points.”"
   ]
  },
  {
   "cell_type": "code",
   "execution_count": 7,
   "id": "20958549",
   "metadata": {},
   "outputs": [
    {
     "name": "stdout",
     "output_type": "stream",
     "text": [
      "Enter the point: 45\n",
      "Valid Points\n"
     ]
    }
   ],
   "source": [
    "points = int(input(\"Enter the point: \"))\n",
    "\n",
    "if points > 9 and points < 51:\n",
    "        print('Valid Points')\n",
    "else:\n",
    "        print('Invalid Points')"
   ]
  },
  {
   "cell_type": "markdown",
   "id": "8d153976",
   "metadata": {},
   "source": [
    "### Question:8 to 10 \n",
    "These questions are base on turtle graphics "
   ]
  }
 ],
 "metadata": {
  "kernelspec": {
   "display_name": "Python 3 (ipykernel)",
   "language": "python",
   "name": "python3"
  },
  "language_info": {
   "codemirror_mode": {
    "name": "ipython",
    "version": 3
   },
   "file_extension": ".py",
   "mimetype": "text/x-python",
   "name": "python",
   "nbconvert_exporter": "python",
   "pygments_lexer": "ipython3",
   "version": "3.9.13"
  }
 },
 "nbformat": 4,
 "nbformat_minor": 5
}
