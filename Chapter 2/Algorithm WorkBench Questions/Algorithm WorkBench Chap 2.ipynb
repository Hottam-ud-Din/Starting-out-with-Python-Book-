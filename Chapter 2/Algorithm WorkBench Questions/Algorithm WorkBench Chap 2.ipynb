{
 "cells": [
  {
   "cell_type": "markdown",
   "id": "ba73b49c",
   "metadata": {
    "tags": []
   },
   "source": [
    "# Algorithm WorkBench Questions of Chapter 2"
   ]
  },
  {
   "cell_type": "markdown",
   "id": "be84e239",
   "metadata": {
    "jp-MarkdownHeadingCollapsed": true,
    "tags": []
   },
   "source": [
    "### Question:1\n",
    "Write Python code that prompts the user to enter his or her age and assigns the user’s \n",
    "input to an integer variable named age."
   ]
  },
  {
   "cell_type": "code",
   "execution_count": 1,
   "id": "b743acd2",
   "metadata": {
    "scrolled": true
   },
   "outputs": [
    {
     "name": "stdout",
     "output_type": "stream",
     "text": [
      "Enter your age:21\n",
      "Your age is: 21\n"
     ]
    }
   ],
   "source": [
    "age = input(\"Enter your age:\")\n",
    "age = int(age)\n",
    "print(\"Your age is:\",age)"
   ]
  },
  {
   "cell_type": "markdown",
   "id": "7b5942bc",
   "metadata": {
    "jp-MarkdownHeadingCollapsed": true,
    "tags": []
   },
   "source": [
    "### Question:2\n",
    "Write Python code that prompts the user to enter his or her favorite color and assigns \n",
    "the user’s input to a variable named color."
   ]
  },
  {
   "cell_type": "code",
   "execution_count": 2,
   "id": "6c3512e3",
   "metadata": {},
   "outputs": [
    {
     "name": "stdout",
     "output_type": "stream",
     "text": [
      "Enter your Favourite color:white\n",
      "Your favourite color is: white\n"
     ]
    }
   ],
   "source": [
    "color = input(\"Enter your Favourite color:\")\n",
    "print(\"Your favourite color is:\",color)"
   ]
  },
  {
   "cell_type": "markdown",
   "id": "aac5f273",
   "metadata": {
    "jp-MarkdownHeadingCollapsed": true,
    "tags": []
   },
   "source": [
    "### Question:3\n",
    "Write assignment statements that perform the following operations with the variables \n",
    "a, b, and c:\n",
    "1. Adds 2 to a and assigns the result to b\n",
    "2. Multiplies b times 4 and assigns the result to a\n",
    "3. Divides a by 3.14 and assigns the result to b\n",
    "4. Subtracts 8 from b and assigns the result to a"
   ]
  },
  {
   "cell_type": "code",
   "execution_count": 3,
   "id": "812536da",
   "metadata": {},
   "outputs": [
    {
     "name": "stdout",
     "output_type": "stream",
     "text": [
      "14\n",
      "44\n",
      "3.184713375796178\n",
      "13\n"
     ]
    }
   ],
   "source": [
    "# 1.\n",
    "a = 12\n",
    "b = a + 2\n",
    "print(b)\n",
    "\n",
    "# 2.\n",
    "b = 11\n",
    "a = b * 4\n",
    "print(a)\n",
    "\n",
    "# 3.\n",
    "a = 10\n",
    "b = a/3.14\n",
    "print(b)\n",
    "\n",
    "# 4.\n",
    "b = 21\n",
    "a = b-8\n",
    "print(a)"
   ]
  },
  {
   "cell_type": "markdown",
   "id": "b86e7dc5-1e45-413f-8c39-11f8c18d1ab4",
   "metadata": {
    "jp-MarkdownHeadingCollapsed": true,
    "tags": []
   },
   "source": [
    "### Question:4\n",
    "Assume the variables result, w, x, y, and z are all integers, and that w = 5, x = 4, \n",
    "y = 8, and z = 2. What value will be stored in result after each of the following \n",
    "statements execute?\n",
    "1. result = x + y\n",
    "2. result = z * 2\n",
    "3. result = y / x\n",
    "4. result = y – z\n",
    "5. result = w // z"
   ]
  },
  {
   "cell_type": "code",
   "execution_count": 4,
   "id": "c096f3ba-a592-44bb-8431-3420d89fbd7d",
   "metadata": {},
   "outputs": [
    {
     "name": "stdout",
     "output_type": "stream",
     "text": [
      "result 1 is: 12\n",
      "result 2 is: 4\n",
      "result 3 is: 2.0\n",
      "result 4 is: 6\n",
      "result 5 is: 2\n"
     ]
    }
   ],
   "source": [
    "w = 5\n",
    "x = 4\n",
    "y = 8\n",
    "z = 2\n",
    "\n",
    "print(\"result 1 is:\",x+y)\n",
    "print(\"result 2 is:\",z*2)\n",
    "print(\"result 3 is:\",y/x )    \n",
    "print(\"result 4 is:\",y-z)  \n",
    "print(\"result 5 is:\",w//z)   "
   ]
  },
  {
   "cell_type": "markdown",
   "id": "f8b1f271",
   "metadata": {},
   "source": [
    "### Question:5\n",
    "Write a Python statement that assigns the product of 10 and 15 to the variable product"
   ]
  },
  {
   "cell_type": "code",
   "execution_count": 5,
   "id": "e3fef0a9",
   "metadata": {},
   "outputs": [
    {
     "name": "stdout",
     "output_type": "stream",
     "text": [
      "150\n"
     ]
    }
   ],
   "source": [
    "product = 10 * 15\n",
    "print(product)"
   ]
  },
  {
   "cell_type": "markdown",
   "id": "8d0ea1ba",
   "metadata": {},
   "source": [
    "### Question:6\n",
    "Write a Python statement that subtracts the variable down_payment from the variable \n",
    "total and assigns the result to the variable due."
   ]
  },
  {
   "cell_type": "code",
   "execution_count": 6,
   "id": "b01294af",
   "metadata": {},
   "outputs": [
    {
     "name": "stdout",
     "output_type": "stream",
     "text": [
      "4000\n"
     ]
    }
   ],
   "source": [
    "total = 5000\n",
    "down_payment = 1000\n",
    "due = total - down_payment\n",
    "print(due)"
   ]
  },
  {
   "cell_type": "markdown",
   "id": "822ef862",
   "metadata": {},
   "source": [
    "### Question:7\n",
    "Write a Python statement that multiplies the variable subtotal by 0.15 and assigns \n",
    "the result to the variable total."
   ]
  },
  {
   "cell_type": "code",
   "execution_count": 7,
   "id": "7da490d3",
   "metadata": {},
   "outputs": [
    {
     "name": "stdout",
     "output_type": "stream",
     "text": [
      "150.0\n"
     ]
    }
   ],
   "source": [
    "subtotal = 1000\n",
    "total = subtotal * 0.15\n",
    "print(total)"
   ]
  },
  {
   "cell_type": "markdown",
   "id": "2f9f2191",
   "metadata": {},
   "source": [
    "### Question:8\n",
    "What would the following display?"
   ]
  },
  {
   "cell_type": "code",
   "execution_count": 8,
   "id": "31852005",
   "metadata": {},
   "outputs": [
    {
     "name": "stdout",
     "output_type": "stream",
     "text": [
      "11\n"
     ]
    }
   ],
   "source": [
    "a = 5\n",
    "b = 2\n",
    "c = 3\n",
    "result = a + b * c\n",
    "print(result) # first it will multiply b and c then add it to a"
   ]
  },
  {
   "cell_type": "markdown",
   "id": "7f779b93",
   "metadata": {},
   "source": [
    "### Question:9\n",
    "What would the following display?\n"
   ]
  },
  {
   "cell_type": "code",
   "execution_count": 9,
   "id": "26789555",
   "metadata": {},
   "outputs": [
    {
     "name": "stdout",
     "output_type": "stream",
     "text": [
      "5\n"
     ]
    }
   ],
   "source": [
    "num = 99\n",
    "num = 5\n",
    "print(num)"
   ]
  },
  {
   "cell_type": "markdown",
   "id": "edaf7877",
   "metadata": {},
   "source": [
    "### Question:10\n",
    "Assume the variable sales references a float value. Write a statement that displays \n",
    "the value rounded to two decimal points."
   ]
  },
  {
   "cell_type": "code",
   "execution_count": 10,
   "id": "269e8f04",
   "metadata": {},
   "outputs": [
    {
     "name": "stdout",
     "output_type": "stream",
     "text": [
      "1000.12\n"
     ]
    }
   ],
   "source": [
    "sales = 1000.12345\n",
    "sales = format(sales,'.2f')\n",
    "print(sales)"
   ]
  },
  {
   "cell_type": "markdown",
   "id": "17c58db7",
   "metadata": {},
   "source": [
    "### Question:11\n",
    "Assume the following statement has been executed:\n",
    "number = 1234567.456\n",
    "1. Write a Python statement that displays the value referenced by the number variable \n",
    "formatted as\n",
    "1,234,567.5"
   ]
  },
  {
   "cell_type": "code",
   "execution_count": 11,
   "id": "53813e9e",
   "metadata": {},
   "outputs": [
    {
     "name": "stdout",
     "output_type": "stream",
     "text": [
      "1,234,567.5\n"
     ]
    }
   ],
   "source": [
    "number = 1234567.456\n",
    "number = format(number,',.1f')\n",
    "print(number)"
   ]
  },
  {
   "cell_type": "markdown",
   "id": "235c6209",
   "metadata": {},
   "source": [
    "### Question:12\n",
    "What will the following statement display?\n",
    "1. print('X\\tO\\tX\\nO\\tX\\tO\\nX\\tO\\tX\\n')"
   ]
  },
  {
   "cell_type": "code",
   "execution_count": 12,
   "id": "191bb912",
   "metadata": {},
   "outputs": [
    {
     "name": "stdout",
     "output_type": "stream",
     "text": [
      "X\tO\tX\n",
      "O\tX\tO\n",
      "X\tO\tX\n",
      "\n"
     ]
    }
   ],
   "source": [
    "print('X\\tO\\tX\\nO\\tX\\tO\\nX\\tO\\tX\\n')"
   ]
  },
  {
   "cell_type": "markdown",
   "id": "11fee2dd",
   "metadata": {},
   "source": [
    "### Question:13 to 15\n",
    "these questions are based on turtle graphics concept"
   ]
  },
  {
   "cell_type": "code",
   "execution_count": null,
   "id": "42e8c9a6",
   "metadata": {},
   "outputs": [],
   "source": []
  }
 ],
 "metadata": {
  "kernelspec": {
   "display_name": "Python 3 (ipykernel)",
   "language": "python",
   "name": "python3"
  },
  "language_info": {
   "codemirror_mode": {
    "name": "ipython",
    "version": 3
   },
   "file_extension": ".py",
   "mimetype": "text/x-python",
   "name": "python",
   "nbconvert_exporter": "python",
   "pygments_lexer": "ipython3",
   "version": "3.9.13"
  },
  "toc-autonumbering": false,
  "toc-showcode": false,
  "toc-showmarkdowntxt": false
 },
 "nbformat": 4,
 "nbformat_minor": 5
}
