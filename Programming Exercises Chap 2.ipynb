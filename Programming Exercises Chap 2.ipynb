{
 "cells": [
  {
   "cell_type": "markdown",
   "id": "0ee5ecbb",
   "metadata": {},
   "source": [
    "# Programming Exercises of Chapter 2"
   ]
  },
  {
   "cell_type": "markdown",
   "id": "3d0670ee",
   "metadata": {},
   "source": [
    "### 1. Personal Information\n",
    "Write a program that displays the following information:\n",
    "1. Your name\n",
    "2. Your address, with city, state, and ZIP\n",
    "3. Your telephone number\n",
    "4. Your college major"
   ]
  },
  {
   "cell_type": "code",
   "execution_count": 2,
   "id": "ac7dddaa",
   "metadata": {},
   "outputs": [
    {
     "name": "stdout",
     "output_type": "stream",
     "text": [
      "Enter your name:Hootam ud Din\n",
      "Enter your address:Peshawar\n",
      "Enter your telephone number:03335486412\n",
      "Enter your college major:Data Science\n",
      "Your name is Hootam ud Din. you are a resident of Peshawar.\n",
      " Your telephone number is 3335486412 and you are a student of Data Science.\n"
     ]
    }
   ],
   "source": [
    "name = input('Enter your name:')\n",
    "address = input('Enter your address:')\n",
    "telephone = int(input('Enter your telephone number:'))\n",
    "college_major = input('Enter your college major:')\n",
    "\n",
    "print(f'Your name is {name}. you are a resident of {address}.\\n Your telephone number is {telephone} and you are a student of {college_major}.')\n"
   ]
  },
  {
   "cell_type": "markdown",
   "id": "c7e57c8e",
   "metadata": {},
   "source": [
    "### 2. Sales Prediction\n",
    "A company has determined that its annual profit is typically 23 percent of total sales. Write \n",
    "a program that asks the user to enter the projected amount of total sales, then displays the \n",
    "profit that will be made from that amount.\n",
    "\n",
    "Hint: Use the value 0.23 to represent 23 percent."
   ]
  },
  {
   "cell_type": "code",
   "execution_count": 4,
   "id": "05a05499",
   "metadata": {},
   "outputs": [
    {
     "name": "stdout",
     "output_type": "stream",
     "text": [
      "Enter the prjected amount of total sales:4500\n",
      "The profit that is made is:1035.0\n"
     ]
    }
   ],
   "source": [
    "sales = int(input('Enter the prjected amount of total sales:'))\n",
    "profit = sales * 0.23\n",
    "print(f'The profit that is made is:{profit}')"
   ]
  },
  {
   "cell_type": "markdown",
   "id": "f6a17063",
   "metadata": {},
   "source": [
    "### 3. Pounds to Kilograms\n",
    "One pound is equivalent to 0.454 kilograms. Write a program that asks the user to enter \n",
    "the mass of an object in pounds and then calculates and displays the mass of the object in \n",
    "kilograms."
   ]
  },
  {
   "cell_type": "code",
   "execution_count": 5,
   "id": "f04ae65f",
   "metadata": {
    "scrolled": true
   },
   "outputs": [
    {
     "name": "stdout",
     "output_type": "stream",
     "text": [
      "Enter the mass of an object in pounds:3\n",
      "Mass in pounds is 3\n",
      " Mass in kg is 1.362\n"
     ]
    }
   ],
   "source": [
    "mass_in_Pounds = int(input('Enter the mass of an object in pounds:'))\n",
    "mass_in_kg = mass_in_Pounds * 0.454\n",
    "print(f'Mass in pounds is {mass_in_Pounds}\\n Mass in kg is {mass_in_kg}')"
   ]
  },
  {
   "cell_type": "markdown",
   "id": "3910ab7e",
   "metadata": {},
   "source": [
    "### 4. Total Purchase\n",
    "A customer in a store is purchasing five items. Write a program that asks for the price of \n",
    "each item, then displays the subtotal of the sale, the amount of sales tax, and the total. \n",
    "Assume the sales tax is 7 percent."
   ]
  },
  {
   "cell_type": "code",
   "execution_count": 6,
   "id": "fc410957",
   "metadata": {},
   "outputs": [
    {
     "name": "stdout",
     "output_type": "stream",
     "text": [
      "Enter the price of item 1:43\n",
      "Enter the price of item 2:54\n",
      "Enter the price of item 3:65\n",
      "Enter the price of item 4:34\n",
      "Enter the price of item 5:76\n",
      "The subtotal is $272.00\n",
      "The Tax is $19.04\n",
      "The Toatl amount is $291.04\n"
     ]
    }
   ],
   "source": [
    "subtotal = 0\n",
    "for i in range(1,6):\n",
    "    price = float(input(f\"Enter the price of item {i}:\"))\n",
    "    subtotal += price\n",
    "    \n",
    "tax_rate = 0.07\n",
    "sales_tax = subtotal * tax_rate\n",
    "total = subtotal + sales_tax\n",
    "\n",
    "print(f'The subtotal is ${subtotal:.2f}')\n",
    "print(f\"The Tax is ${sales_tax:.2f}\")\n",
    "print(f\"The Toatl amount is ${total:.2f}\")"
   ]
  },
  {
   "cell_type": "markdown",
   "id": "c21ac1a3",
   "metadata": {},
   "source": [
    "### 5. Distance Traveled\n",
    "Assuming there are no accidents or delays, the distance that a car travels down the inter-state can be calculated with the following formula:\n",
    "                                      \n",
    "                                      Distance = Speed x Time\n",
    "\n",
    "A car is traveling at 70 miles per hour. Write a program that displays the following:\n",
    "\n",
    "• The distance the car will travel in 6 hours\n",
    "\n",
    "• The distance the car will travel in 10 hours\n",
    "\n",
    "• The distance the car will travel in 15 hours"
   ]
  },
  {
   "cell_type": "code",
   "execution_count": 7,
   "id": "f16b2481",
   "metadata": {},
   "outputs": [
    {
     "name": "stdout",
     "output_type": "stream",
     "text": [
      "The distance the car will travel in 6 hours is:420 miles \n",
      "The distance the car will travel in 10 hours is:700 miles\n",
      "The distance the car will travel in 15 hours is:1050 miles\n"
     ]
    }
   ],
   "source": [
    "speed = 70\n",
    "distance_1 = speed * 6\n",
    "distance_2 = speed * 10\n",
    "distance_3 = speed * 15\n",
    "\n",
    "print(f'The distance the car will travel in 6 hours is:{distance_1} miles ')\n",
    "print(f'The distance the car will travel in 10 hours is:{distance_2} miles')\n",
    "print(f'The distance the car will travel in 15 hours is:{distance_3} miles')\n"
   ]
  },
  {
   "cell_type": "markdown",
   "id": "12615e13",
   "metadata": {},
   "source": [
    "### 6. Payment Instalments\n",
    "Write a program that asks the user to enter the amount of a purchase and the desired \n",
    "number of payment instalments. The program should add 5 percent to the amount to get \n",
    "the total purchase amount, and then divide it by the desired number of instalments, then display messages telling the user the total amount of the purchase and how much each \n",
    "instalment will cost."
   ]
  },
  {
   "cell_type": "code",
   "execution_count": 8,
   "id": "28a69611",
   "metadata": {},
   "outputs": [
    {
     "name": "stdout",
     "output_type": "stream",
     "text": [
      "Enter the amount of purchase:45000\n",
      "Enter your desired number of payment instalments:6\n",
      "The total purchase amount is: 47250.0\n",
      "The amount 0f each instalment will be: 7875.0\n"
     ]
    }
   ],
   "source": [
    "amount_of_purchase   = int(input(\"Enter the amount of purchase:\"))\n",
    "instalments          = int(input(\"Enter your desired number of payment instalments:\"))\n",
    "\n",
    "total_purchae_amount = amount_of_purchase + (amount_of_purchase*0.05)\n",
    "each_instalment      = total_purchae_amount/instalments\n",
    "\n",
    "print(f'The total purchase amount is: {total_purchae_amount}')\n",
    "print(f'The amount 0f each instalment will be: {each_instalment}')"
   ]
  },
  {
   "cell_type": "markdown",
   "id": "b1f17143",
   "metadata": {},
   "source": [
    "### 7. Miles-per-Gallon\n",
    "A car's miles-per-gallon (MPG) can be calculated with the following formula:\n",
    "\n",
    "                     MPG = Miles driven/Gallons of gas used\n",
    "Write a program that asks the user for the number of miles driven and the gallons of gas \n",
    "used. It should calculate the car's MPG and display the result."
   ]
  },
  {
   "cell_type": "code",
   "execution_count": 9,
   "id": "6f231ea4",
   "metadata": {},
   "outputs": [
    {
     "name": "stdout",
     "output_type": "stream",
     "text": [
      "Enter the number of miles drives:50\n",
      "Enter the number of gallons of gas used10\n",
      "So the car's miles-per-gallon(MPG) is: 5.0\n"
     ]
    }
   ],
   "source": [
    "miles_driven     = float(input(\"Enter the number of miles drives:\"))\n",
    "gallons_gas_used = float(input(\"Enter the number of gallons of gas used\"))\n",
    "\n",
    "MPG = miles_driven/gallons_gas_used\n",
    "\n",
    "print(f\"So the car's miles-per-gallon(MPG) is: {MPG}\")"
   ]
  },
  {
   "cell_type": "markdown",
   "id": "9e68ed5a",
   "metadata": {},
   "source": [
    "### 8. Tip, Tax, and Total\n",
    "Write a program that calculates the total amount of a meal purchased at a restaurant. The \n",
    "program should ask the user to enter the charge for the food, then calculate the amounts \n",
    "of a 18 percent tip and 7 percent sales tax. Display each of these amounts and the total."
   ]
  },
  {
   "cell_type": "code",
   "execution_count": 11,
   "id": "fa9ce562",
   "metadata": {},
   "outputs": [
    {
     "name": "stdout",
     "output_type": "stream",
     "text": [
      "Enter the charge for the food:3500\n",
      "The food charge was: 3,500.00\n",
      "The tip amount of 18% is: 630.00\n",
      "The amount of 7% is: 245.00\n",
      "The total amount is: 4,375.00\n"
     ]
    }
   ],
   "source": [
    "food_charge   = float(input(\"Enter the charge for the food:\"))\n",
    "tip_amount    = food_charge * 0.18 # 18%\n",
    "tax_amount    = food_charge * 0.07 # 7%\n",
    "total_amount  = food_charge + tip_amount + tax_amount\n",
    "\n",
    "print(f'The food charge was: {food_charge:,.2f}')\n",
    "print(f'The tip amount of 18% is: {tip_amount:,.2f}')\n",
    "print(f'The amount of 7% is: {tax_amount:,.2f}')\n",
    "print(f'The total amount is: {total_amount:,.2f}')"
   ]
  },
  {
   "cell_type": "markdown",
   "id": "69b28eb4",
   "metadata": {},
   "source": [
    "### 9. Circle Measurements\n",
    "Write a program that asks the user to enter the radius of a circle. The program should calculate and display the area and circumference of the circle using (πr-square)for the area and 2πr for the circumference.\n",
    "\n",
    "Hint: You can either use 3.14159 as the value of pi (π), or add the statement \"import math\"\n",
    "to the start of the program and then use \"math.pi\" wherever you need the value of pi in \n",
    "the program."
   ]
  },
  {
   "cell_type": "code",
   "execution_count": 12,
   "id": "64e6461c",
   "metadata": {},
   "outputs": [
    {
     "name": "stdout",
     "output_type": "stream",
     "text": [
      "Enter the radius of the circle:4\n",
      "The area of the circle is: 50.27\n",
      "The circumference of the circle is: 25.13\n"
     ]
    }
   ],
   "source": [
    "import math\n",
    "\n",
    "circle_radius = float(input(\"Enter the radius of the circle:\"))\n",
    "\n",
    "circle_area   = math.pi * circle_radius**2\n",
    "circumference = 2 * math.pi * circle_radius\n",
    "\n",
    "print(f'The area of the circle is: {circle_area:.2f}')\n",
    "print(f'The circumference of the circle is: {circumference:.2f}')\n"
   ]
  },
  {
   "cell_type": "markdown",
   "id": "a5b02942",
   "metadata": {},
   "source": [
    "### 10.Ingredient Adjuster\n",
    "A cookie recipe calls for the following ingredients:\n",
    "1. 1.5 cups of sugar\n",
    "2. 1 cup of butter\n",
    "3. 2.75 cups of flour\n",
    "\n",
    "The recipe produces 48 cookies with this amount of the ingredients. Write a program that \n",
    "asks the user how many cookies he or she wants to make, then displays the number of cups \n",
    "of each ingredient needed for the specified number of cookies."
   ]
  },
  {
   "cell_type": "code",
   "execution_count": 13,
   "id": "7599dc3d",
   "metadata": {},
   "outputs": [
    {
     "name": "stdout",
     "output_type": "stream",
     "text": [
      "Enter the number of cookies you want to make:100\n",
      "So for 100 number of cookies, You will need:\n",
      " SUGAR: 3.12 cups \n",
      " BUTTER: 2.08 cups \n",
      " FLOUR: 5.73 cups\n"
     ]
    }
   ],
   "source": [
    "sugar_per_cookie  = 1.5 / 48\n",
    "butter_per_cookie = 1 / 48\n",
    "flour_per_cookie  = 2.75 / 48\n",
    "\n",
    "cookies = int(input(\"Enter the number of cookies you want to make:\"))\n",
    "\n",
    "sugar_needed  = sugar_per_cookie  * cookies\n",
    "buuter_needed = butter_per_cookie * cookies\n",
    "flour_needed  = flour_per_cookie  * cookies\n",
    "\n",
    "print(f\"So for {cookies} number of cookies, You will need:\\n SUGAR: {sugar_needed:.2f} cups\",\n",
    "f\"\\n BUTTER: {buuter_needed:.2f} cups \\n FLOUR: {flour_needed:.2f} cups\")\n"
   ]
  },
  {
   "cell_type": "markdown",
   "id": "a0daa13e",
   "metadata": {},
   "source": [
    "### 11.Male and Female Percentages\n",
    "Write a program that asks the user for the number of males and the number of females registered in a class. The program should display the percentage of males and females in the class.\n",
    "\n",
    "Hint: Suppose there are 8 males and 12 females in a class. There are 20 students in the \n",
    "class. The percentage of males can be calculated as 8 ÷ 20 = 0.4, or 40%. The percentage \n",
    "of females can be calculated as 12 ÷ 20 = 0.6, or 60%."
   ]
  },
  {
   "cell_type": "code",
   "execution_count": 14,
   "id": "c2a93e04",
   "metadata": {},
   "outputs": [
    {
     "name": "stdout",
     "output_type": "stream",
     "text": [
      "Enter the number of male students:45\n",
      "Enter the number of female students:34\n",
      "The total students in class are: 79\n",
      "The percentage of male students in class is:  57%\n",
      "The percentage of female students in class is:  43%\n"
     ]
    }
   ],
   "source": [
    "male_std   = int(input(\"Enter the number of male students:\"))\n",
    "female_std = int(input(\"Enter the number of female students:\"))\n",
    "total_std  = male_std + female_std\n",
    "\n",
    "per_male   = male_std/total_std * 100\n",
    "per_female = female_std/total_std * 100\n",
    "\n",
    "print(f'The total students in class are: {total_std}')\n",
    "print(f'The percentage of male students in class is: {per_male: .0f}%')\n",
    "print(f'The percentage of female students in class is: {per_female: .0f}%')\n"
   ]
  },
  {
   "cell_type": "markdown",
   "id": "8af86bec",
   "metadata": {},
   "source": [
    "### 12.Stock Transaction Program\n",
    "Last month, Joe purchased some stock in Acme Software, Inc. Here are the details of the \n",
    "purchase:\n",
    "1. The number of shares that Joe purchased was 2,000.\n",
    "2. When Joe purchased the stock, he paid $40.00 per share.\n",
    "3. Joe paid his stockbroker a commission that amounted to 3 percent of the amount he paid \n",
    "for the stock.\n",
    "\n",
    "Two weeks later, Joe sold the stock. Here are the details of the sale:\n",
    "1. The number of shares that Joe sold was 2,000.\n",
    "2. He sold the stock for $42.75 per share.\n",
    "3. He paid his stockbroker another commission that amounted to 3 percent of the amount he received for the stock.\n",
    "\n",
    "Write a program that displays the following information:\n",
    "1. The amount of money Joe paid for the stock.\n",
    "2. The amount of commission Joe paid his broker when he bought the stock.\n",
    "3. The amount for which Joe sold the stock.\n",
    "4. The amount of commission Joe paid his broker when he sold the stock.\n",
    "5. Display the amount of money that Joe had left when he sold the stock and paid his broker (both times). If this amount is positive, then Joe made a profit. If the amount is negative, then Joe lost money."
   ]
  },
  {
   "cell_type": "code",
   "execution_count": 18,
   "id": "8855d2fe",
   "metadata": {
    "scrolled": true
   },
   "outputs": [
    {
     "name": "stdout",
     "output_type": "stream",
     "text": [
      "The amount of money Joe paid for the stock was: $80000\n",
      "The amount of commission Joe paid his broker when he bought the stock was: $2400.0\n",
      "The amount for which Joe sold the stock is: $85500.0\n",
      "The amount of commission Joe paid his broker when he sold the stock is: $2565.0\n",
      "So the amount of money that Joe had left when he sold the stock and paid his broker (both times) is: $535.0\n",
      "So this is a positive number and Joe has made a profit of $535.0\n"
     ]
    }
   ],
   "source": [
    "# Details of the purchased stock\n",
    "shares          = 2000\n",
    "purchase_price  = 40\n",
    "purchase_amount = shares * purchase_price\n",
    "commission_rate = 0.03\n",
    "brokr_com_befor = purchase_amount * commission_rate\n",
    "\n",
    "# Details of the stock sold\n",
    "\n",
    "sold_price      = 42.75\n",
    "sold_amount     = sold_price * shares\n",
    "brokr_com_after = sold_amount * commission_rate\n",
    "\n",
    "amount_left     = sold_amount - (brokr_com_after + brokr_com_befor + purchase_amount) \n",
    "\n",
    "print(f'The amount of money Joe paid for the stock was: ${purchase_amount}')\n",
    "print(f'The amount of commission Joe paid his broker when he bought the stock was: ${brokr_com_befor}')\n",
    "print(f'The amount for which Joe sold the stock is: ${sold_amount}')\n",
    "print(f'The amount of commission Joe paid his broker when he sold the stock is: ${brokr_com_after}')\n",
    "print(f'So the amount of money that Joe had left when he sold the stock and paid his broker (both times) is: ${amount_left}')\n",
    "print(f\"So this is a positive number and Joe has made a profit of ${amount_left}\")\n"
   ]
  },
  {
   "cell_type": "markdown",
   "id": "3d65345f",
   "metadata": {},
   "source": [
    "### 13.Planting Grapevines\n",
    "A vineyard owner is planting several new rows of grapevines, and needs to know how many \n",
    "grapevines to plant in each row. She has determined that after measuring the length of a \n",
    "future row, she can use the following formula to calculate the number of vines that will fit \n",
    "in the row, along with the trellis end-post assemblies that will need to be constructed at \n",
    "each end of the row:\n",
    "\n",
    "                    V = (R-2E)/S\n",
    "                     \n",
    "The terms in the formula are:\n",
    "1. V is the number of grapevines that will fit in the row.\n",
    "2. R is the length of the row, in feet.\n",
    "3. E is the amount of space, in feet, used by an end-post assembly.\n",
    "4. S is the space between vines, in feet.\n",
    "\n",
    "Write a program that makes the calculation for the vineyard owner. The program should ask the user to input the following:\n",
    "1. The length of the row, in feet\n",
    "2. The amount of space used by an end-post assembly, in feet\n",
    "3. The amount of space between the vines, in feet\n",
    "\n",
    "Once the input data has been entered, the program should calculate and display the number of grapevines that will fit in the row."
   ]
  },
  {
   "cell_type": "code",
   "execution_count": 19,
   "id": "88134cbf",
   "metadata": {
    "scrolled": true
   },
   "outputs": [
    {
     "name": "stdout",
     "output_type": "stream",
     "text": [
      "Enter the length of the row in feet:15\n",
      "Enter the amount of space used by an end-post assembly in feet:3\n",
      "Enter the amount os space between the vines in feet:2\n",
      "So the number of grapevines that will fit in the row is: 4\n"
     ]
    }
   ],
   "source": [
    "row_length     = float(input(\"Enter the length of the row in feet:\"))\n",
    "end_post_space = float(input(\"Enter the amount of space used by an end-post assembly in feet:\"))\n",
    "vine_space     = float(input(\"Enter the amount os space between the vines in feet:\"))\n",
    "\n",
    "vines_per_row = (row_length-2*end_post_space)/vine_space\n",
    "\n",
    "print(f'So the number of grapevines that will fit in the row is: {int(vines_per_row)}')"
   ]
  },
  {
   "cell_type": "markdown",
   "id": "417c8edc",
   "metadata": {},
   "source": [
    "### 14.Compound Interest\n",
    "When a bank account pays compound interest, it pays interest not only on the principal \n",
    "amount that was deposited into the account, but also on the interest that has accumulated \n",
    "over time. Suppose you want to deposit some money into a savings account, and let the \n",
    "account earn compound interest for a certain number of years. The formula for calculating \n",
    "the balance of the account after a specified number of years is:\n",
    "\n",
    "                            A = P * ((1 + r/n)**nt)\n",
    "                            \n",
    "The terms in the formula are:\n",
    "1. A is the amount of money in the account after the specified number of years.\n",
    "2. P is the principal amount that was originally deposited into the account.\n",
    "3. r is the annual interest rate.\n",
    "4. n is the number of times per year that the interest is compounded.\n",
    "5. t is the specified number of years.\n",
    "\n",
    "Write a program that makes the calculation for you. The program should ask the user to input the following:\n",
    "1. The amount of principal originally deposited into the account\n",
    "2. The annual interest rate paid by the account\n",
    "3. The number of times per year that the interest is compounded (For example, if interest is compounded monthly, enter 12   If interest is compounded quarterly, enter 4.)\n",
    "4. The number of years the account will be left to earn interest\n",
    "\n",
    "Once the input data has been entered, the program should calculate and display the amount \n",
    "of money that will be in the account after the specified number of years.\n",
    "\n",
    "##### NOTE:\n",
    "The user should enter the interest rate as a percentage. For example, 2 percent \n",
    "would be entered as 2, not as .02. The program will then have to divide the input by \n",
    "100 to move the decimal point to the correct position."
   ]
  },
  {
   "cell_type": "code",
   "execution_count": 1,
   "id": "46ef066d",
   "metadata": {},
   "outputs": [
    {
     "name": "stdout",
     "output_type": "stream",
     "text": [
      "Enter the amount that was originally deposited into the account:10000\n",
      "Enter the amount of annual interest rate(in percentage) paid by the account:10\n",
      "Enter the number of times per year the interest is compounded:4\n",
      "Enter the specified number of yrears:5\n",
      "The amount of money that will be left after 5-years is: 16386.16\n"
     ]
    }
   ],
   "source": [
    "principal_amount        = int(input(\"Enter the amount that was originally deposited into the account:\"))\n",
    "annual_interest_rate    = int(input(\"Enter the amount of annual interest rate(in percentage) paid by the account:\"))\n",
    "interest_compound_times = int(input(\"Enter the number of times per year the interest is compounded:\"))\n",
    "number_of_years         = int(input(\"Enter the specified number of yrears:\"))\n",
    "\n",
    "annual_interest_rate   /= 100\n",
    "\n",
    "amount_left_after_years = principal_amount * ((1+annual_interest_rate/interest_compound_times) ** (interest_compound_times*number_of_years))\n",
    "print(f'The amount of money that will be left after {number_of_years}-years is: {amount_left_after_years:.2f}')"
   ]
  },
  {
   "cell_type": "code",
   "execution_count": null,
   "id": "1b252f0f",
   "metadata": {},
   "outputs": [],
   "source": []
  }
 ],
 "metadata": {
  "kernelspec": {
   "display_name": "Python 3 (ipykernel)",
   "language": "python",
   "name": "python3"
  },
  "language_info": {
   "codemirror_mode": {
    "name": "ipython",
    "version": 3
   },
   "file_extension": ".py",
   "mimetype": "text/x-python",
   "name": "python",
   "nbconvert_exporter": "python",
   "pygments_lexer": "ipython3",
   "version": "3.9.13"
  }
 },
 "nbformat": 4,
 "nbformat_minor": 5
}
